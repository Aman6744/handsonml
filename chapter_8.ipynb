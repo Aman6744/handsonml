{
 "cells": [
  {
   "cell_type": "code",
   "execution_count": 23,
   "metadata": {},
   "outputs": [
    {
     "data": {
      "text/plain": [
       "array([ 2.21633349, 10.85569668, -0.09604245])"
      ]
     },
     "execution_count": 23,
     "metadata": {},
     "output_type": "execute_result"
    }
   ],
   "source": [
    "from sklearn.datasets import make_swiss_roll\n",
    "\n",
    "swiss_roll = make_swiss_roll()\n",
    "import numpy as np\n",
    "X = swiss_roll[0]\n",
    "X.mean(axis=0)\n"
   ]
  },
  {
   "cell_type": "code",
   "execution_count": 31,
   "metadata": {},
   "outputs": [
    {
     "name": "stdout",
     "output_type": "stream",
     "text": [
      "(100, 100)\n",
      "(3,)\n",
      "(3, 3)\n"
     ]
    }
   ],
   "source": [
    "X_centered = X - X.mean(axis=0)\n",
    "\n",
    "U, s, Vt = np.linalg.svd(X_centered)\n",
    "\n",
    "print(U.shape)\n",
    "print(s.shape)\n",
    "print(Vt.shape)\n"
   ]
  }
 ],
 "metadata": {
  "kernelspec": {
   "display_name": "Python 3",
   "language": "python",
   "name": "python3"
  },
  "language_info": {
   "codemirror_mode": {
    "name": "ipython",
    "version": 3
   },
   "file_extension": ".py",
   "mimetype": "text/x-python",
   "name": "python",
   "nbconvert_exporter": "python",
   "pygments_lexer": "ipython3",
   "version": "3.6.9"
  }
 },
 "nbformat": 4,
 "nbformat_minor": 4
}
