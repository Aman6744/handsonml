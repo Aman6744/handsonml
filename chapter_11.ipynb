{
 "cells": [
  {
   "cell_type": "markdown",
   "metadata": {},
   "source": [
    "# Setup"
   ]
  },
  {
   "cell_type": "code",
   "execution_count": 1,
   "metadata": {},
   "outputs": [],
   "source": [
    "import tensorflow as tf\n",
    "from tensorflow import keras\n",
    "import numpy as np\n",
    "import pandas as pd\n",
    "import matplotlib as mpl\n",
    "import matplotlib.pyplot as plt\n",
    "from tensorflow.keras.layers import Flatten, Dense, BatchNormalization, Activation\n",
    "from tensorflow.keras.models import Sequential\n",
    "import tensorflow.keras.backend as K\n",
    "import os\n",
    "\n",
    "%load_ext tensorboard\n",
    "\n",
    "# to make this notebook's output stable across runs\n",
    "np.random.seed(55)\n",
    "\n",
    "# To plot pretty figures\n",
    "%matplotlib inline\n",
    "\n",
    "mpl.rc('axes', labelsize=14)\n",
    "mpl.rc('xtick', labelsize=12)\n",
    "mpl.rc('ytick', labelsize=12)"
   ]
  },
  {
   "cell_type": "markdown",
   "metadata": {},
   "source": [
    "# Exercise"
   ]
  },
  {
   "cell_type": "code",
   "execution_count": 2,
   "metadata": {},
   "outputs": [],
   "source": [
    "K.clear_session()\n",
    "np.random.seed(55)\n",
    "tf.random.set_seed(55)"
   ]
  },
  {
   "cell_type": "code",
   "execution_count": 3,
   "metadata": {},
   "outputs": [
    {
     "name": "stdout",
     "output_type": "stream",
     "text": [
      "Downloading data from https://www.cs.toronto.edu/~kriz/cifar-10-python.tar.gz\n",
      "170500096/170498071 [==============================] - 1759s 10us/step\n"
     ]
    }
   ],
   "source": [
    "(X_train_full, y_train_full), (X_test, y_test) = keras.datasets.cifar10.load_data()"
   ]
  },
  {
   "cell_type": "code",
   "execution_count": 4,
   "metadata": {},
   "outputs": [
    {
     "data": {
      "text/plain": [
       "(50000, 32, 32, 3)"
      ]
     },
     "execution_count": 4,
     "metadata": {},
     "output_type": "execute_result"
    }
   ],
   "source": [
    "X_train_full.shape"
   ]
  },
  {
   "cell_type": "code",
   "execution_count": 5,
   "metadata": {},
   "outputs": [
    {
     "data": {
      "text/plain": [
       "(50000, 1)"
      ]
     },
     "execution_count": 5,
     "metadata": {},
     "output_type": "execute_result"
    }
   ],
   "source": [
    "y_train_full.shape"
   ]
  },
  {
   "cell_type": "code",
   "execution_count": 6,
   "metadata": {},
   "outputs": [
    {
     "data": {
      "text/plain": [
       "(10000, 32, 32, 3)"
      ]
     },
     "execution_count": 6,
     "metadata": {},
     "output_type": "execute_result"
    }
   ],
   "source": [
    "X_test.shape"
   ]
  },
  {
   "cell_type": "code",
   "execution_count": 7,
   "metadata": {},
   "outputs": [
    {
     "data": {
      "text/plain": [
       "(10000, 1)"
      ]
     },
     "execution_count": 7,
     "metadata": {},
     "output_type": "execute_result"
    }
   ],
   "source": [
    "y_test.shape"
   ]
  },
  {
   "cell_type": "code",
   "execution_count": 8,
   "metadata": {},
   "outputs": [],
   "source": [
    "X_train, X_valid = X_train_full[:45000]/255., X_train_full[45000:]/255.\n",
    "y_train, y_valid = y_train_full[:45000], y_train_full[45000:]\n",
    "X_test = X_test/255."
   ]
  },
  {
   "cell_type": "code",
   "execution_count": 9,
   "metadata": {},
   "outputs": [],
   "source": [
    "model = Sequential()\n",
    "\n",
    "model.add(Flatten(input_shape = (32, 32, 3)))\n",
    "for i in range(20):\n",
    "    model.add(Dense(100, activation=\"elu\", \n",
    "                    kernel_initializer=\"he_normal\"))\n",
    "model.add(Dense(10, activation=\"softmax\"))"
   ]
  },
  {
   "cell_type": "code",
   "execution_count": 10,
   "metadata": {
    "scrolled": true
   },
   "outputs": [
    {
     "name": "stdout",
     "output_type": "stream",
     "text": [
      "Model: \"sequential\"\n",
      "_________________________________________________________________\n",
      "Layer (type)                 Output Shape              Param #   \n",
      "=================================================================\n",
      "flatten (Flatten)            (None, 3072)              0         \n",
      "_________________________________________________________________\n",
      "dense (Dense)                (None, 100)               307300    \n",
      "_________________________________________________________________\n",
      "dense_1 (Dense)              (None, 100)               10100     \n",
      "_________________________________________________________________\n",
      "dense_2 (Dense)              (None, 100)               10100     \n",
      "_________________________________________________________________\n",
      "dense_3 (Dense)              (None, 100)               10100     \n",
      "_________________________________________________________________\n",
      "dense_4 (Dense)              (None, 100)               10100     \n",
      "_________________________________________________________________\n",
      "dense_5 (Dense)              (None, 100)               10100     \n",
      "_________________________________________________________________\n",
      "dense_6 (Dense)              (None, 100)               10100     \n",
      "_________________________________________________________________\n",
      "dense_7 (Dense)              (None, 100)               10100     \n",
      "_________________________________________________________________\n",
      "dense_8 (Dense)              (None, 100)               10100     \n",
      "_________________________________________________________________\n",
      "dense_9 (Dense)              (None, 100)               10100     \n",
      "_________________________________________________________________\n",
      "dense_10 (Dense)             (None, 100)               10100     \n",
      "_________________________________________________________________\n",
      "dense_11 (Dense)             (None, 100)               10100     \n",
      "_________________________________________________________________\n",
      "dense_12 (Dense)             (None, 100)               10100     \n",
      "_________________________________________________________________\n",
      "dense_13 (Dense)             (None, 100)               10100     \n",
      "_________________________________________________________________\n",
      "dense_14 (Dense)             (None, 100)               10100     \n",
      "_________________________________________________________________\n",
      "dense_15 (Dense)             (None, 100)               10100     \n",
      "_________________________________________________________________\n",
      "dense_16 (Dense)             (None, 100)               10100     \n",
      "_________________________________________________________________\n",
      "dense_17 (Dense)             (None, 100)               10100     \n",
      "_________________________________________________________________\n",
      "dense_18 (Dense)             (None, 100)               10100     \n",
      "_________________________________________________________________\n",
      "dense_19 (Dense)             (None, 100)               10100     \n",
      "_________________________________________________________________\n",
      "dense_20 (Dense)             (None, 10)                1010      \n",
      "=================================================================\n",
      "Total params: 500,210\n",
      "Trainable params: 500,210\n",
      "Non-trainable params: 0\n",
      "_________________________________________________________________\n"
     ]
    }
   ],
   "source": [
    "model.summary()"
   ]
  },
  {
   "cell_type": "code",
   "execution_count": 11,
   "metadata": {},
   "outputs": [],
   "source": [
    "optimizer = keras.optimizers.Nadam(lr=1e-5)\n",
    "\n",
    "model.compile(loss='sparse_categorical_crossentropy', \n",
    "             optimizer=optimizer, \n",
    "             metrics=['accuracy'])"
   ]
  },
  {
   "cell_type": "code",
   "execution_count": 12,
   "metadata": {},
   "outputs": [],
   "source": [
    "class ExponentialLearningRate(keras.callbacks.Callback):\n",
    "    def __init__(self, factor):\n",
    "        self.factor = factor\n",
    "        self.losses = []\n",
    "        self.rates = []\n",
    "    def on_batch_end(self, batch, logs):\n",
    "        self.losses.append(logs[\"loss\"])\n",
    "        self.rates.append(K.get_value(self.model.optimizer.lr))\n",
    "        K.set_value(self.model.optimizer.lr, self.model.optimizer.lr * self.factor)"
   ]
  },
  {
   "cell_type": "code",
   "execution_count": 13,
   "metadata": {},
   "outputs": [
    {
     "name": "stdout",
     "output_type": "stream",
     "text": [
      "1407/1407 [==============================] - 16s 11ms/step - loss: 18330.7930 - accuracy: 0.1970 - val_loss: 5.2354 - val_accuracy: 0.1058\n"
     ]
    }
   ],
   "source": [
    "exp_cb = ExponentialLearningRate(factor=1.005)\n",
    "\n",
    "history = model.fit(X_train, y_train, epochs=1, validation_data=(X_valid, y_valid), callbacks=[exp_cb])"
   ]
  },
  {
   "cell_type": "code",
   "execution_count": 14,
   "metadata": {},
   "outputs": [
    {
     "data": {
      "image/png": "[encoded data removed]",
      "text/plain": [
       "<Figure size 432x288 with 1 Axes>"
      ]
     },
     "metadata": {
      "needs_background": "light"
     },
     "output_type": "display_data"
    }
   ],
   "source": [
    "plt.plot(exp_cb.rates, exp_cb.losses)\n",
    "plt.gca().set_xscale('log')\n",
    "plt.hlines(min(exp_cb.losses), min(exp_cb.rates), max(exp_cb.rates))\n",
    "plt.axis([min(exp_cb.rates), max(exp_cb.rates), 0, exp_cb.losses[0]])\n",
    "plt.xlabel(\"Learning rate\")\n",
    "plt.ylabel(\"Loss\")\n",
    "plt.grid(True)"
   ]
  },
  {
   "cell_type": "code",
   "execution_count": 15,
   "metadata": {},
   "outputs": [],
   "source": [
    "K.clear_session()\n",
    "np.random.seed(55)\n",
    "tf.random.set_seed(55)"
   ]
  },
  {
   "cell_type": "code",
   "execution_count": 16,
   "metadata": {},
   "outputs": [],
   "source": [
    "model = Sequential()\n",
    "\n",
    "model.add(Flatten(input_shape = (32, 32, 3)))\n",
    "for i in range(20):\n",
    "    model.add(Dense(100, activation=\"elu\", \n",
    "                    kernel_initializer=\"he_normal\"))\n",
    "model.add(Dense(10, activation=\"softmax\"))"
   ]
  },
  {
   "cell_type": "code",
   "execution_count": 17,
   "metadata": {},
   "outputs": [],
   "source": [
    "optimizer = keras.optimizers.Nadam(lr=3e-5)\n",
    "\n",
    "model.compile(loss='sparse_categorical_crossentropy', \n",
    "             optimizer=optimizer, \n",
    "             metrics=['accuracy'])"
   ]
  },
  {
   "cell_type": "code",
   "execution_count": 18,
   "metadata": {},
   "outputs": [],
   "source": [
    "early_stopping_cb = keras.callbacks.EarlyStopping(patience=20, restore_best_weights=True)\n",
    "model_checkpoint_cb = keras.callbacks.ModelCheckpoint(\"my_cifar10_model.h5\", save_best_only=True)\n",
    "\n",
    "run_index = 1\n",
    "run_logdir = f\"{os.curdir}/my_cifar10_logs/run_{run_index}\"\n",
    "tensorboard_cb = keras.callbacks.TensorBoard(run_logdir)\n",
    "\n",
    "callbacks = [early_stopping_cb, model_checkpoint_cb, tensorboard_cb]"
   ]
  },
  {
   "cell_type": "code",
   "execution_count": 9,
   "metadata": {},
   "outputs": [
    {
     "data": {
      "text/html": [
       "\n",
       "      <iframe id=\"tensorboard-frame-4923100ec0d44170\" width=\"100%\" height=\"800\" frameborder=\"0\">\n",
       "      </iframe>\n",
       "      <script>\n",
       "        (function() {\n",
       "          const frame = document.getElementById(\"tensorboard-frame-4923100ec0d44170\");\n",
       "          const url = new URL(\"/\", window.location);\n",
       "          url.port = 6006;\n",
       "          frame.src = url;\n",
       "        })();\n",
       "      </script>\n",
       "  "
      ],
      "text/plain": [
       "<IPython.core.display.HTML object>"
      ]
     },
     "metadata": {},
     "output_type": "display_data"
    }
   ],
   "source": [
    "%tensorboard --logdir=./my_cifar10_logs --port=6006"
   ]
  },
  {
   "cell_type": "code",
   "execution_count": 21,
   "metadata": {},
   "outputs": [
    {
     "name": "stdout",
     "output_type": "stream",
     "text": [
      "Epoch 1/1000\n",
      "   2/1407 [..............................] - ETA: 2:02 - loss: 4.5131 - accuracy: 0.0781WARNING:tensorflow:Method (on_train_batch_end) is slow compared to the batch update (0.122717). Check your callbacks.\n",
      "WARNING:tensorflow:Method (on_train_batch_end) is slow compared to the batch update (0.104104). Check your callbacks.\n",
      "1407/1407 [==============================] - 16s 11ms/step - loss: 1.9497 - accuracy: 0.2897 - val_loss: 1.7900 - val_accuracy: 0.3560\n",
      "Epoch 2/1000\n",
      "1407/1407 [==============================] - 16s 11ms/step - loss: 1.7458 - accuracy: 0.3694 - val_loss: 1.8663 - val_accuracy: 0.3278\n",
      "Epoch 3/1000\n",
      "1407/1407 [==============================] - 16s 12ms/step - loss: 1.6632 - accuracy: 0.4022 - val_loss: 1.7229 - val_accuracy: 0.3862\n",
      "Epoch 4/1000\n",
      "1407/1407 [==============================] - 16s 11ms/step - loss: 1.6064 - accuracy: 0.4209 - val_loss: 1.7599 - val_accuracy: 0.3708\n",
      "Epoch 5/1000\n",
      "1407/1407 [==============================] - 16s 11ms/step - loss: 1.5632 - accuracy: 0.4380 - val_loss: 1.5868 - val_accuracy: 0.4306\n",
      "Epoch 6/1000\n",
      "1407/1407 [==============================] - 16s 11ms/step - loss: 1.5331 - accuracy: 0.4504 - val_loss: 1.5853 - val_accuracy: 0.4292\n",
      "Epoch 7/1000\n",
      "1407/1407 [==============================] - 15s 11ms/step - loss: 1.5027 - accuracy: 0.4616 - val_loss: 1.6482 - val_accuracy: 0.4180\n",
      "Epoch 8/1000\n",
      "1407/1407 [==============================] - 16s 11ms/step - loss: 1.4789 - accuracy: 0.4698 - val_loss: 1.5279 - val_accuracy: 0.4548\n",
      "Epoch 9/1000\n",
      "1407/1407 [==============================] - 16s 11ms/step - loss: 1.4580 - accuracy: 0.4770 - val_loss: 1.5451 - val_accuracy: 0.4444\n",
      "Epoch 10/1000\n",
      "1407/1407 [==============================] - 16s 11ms/step - loss: 1.4389 - accuracy: 0.4853 - val_loss: 1.5270 - val_accuracy: 0.4588\n",
      "Epoch 11/1000\n",
      "1407/1407 [==============================] - 16s 11ms/step - loss: 1.4197 - accuracy: 0.4907 - val_loss: 1.4888 - val_accuracy: 0.4626\n",
      "Epoch 12/1000\n",
      "1407/1407 [==============================] - 16s 11ms/step - loss: 1.4016 - accuracy: 0.4971 - val_loss: 1.4923 - val_accuracy: 0.4720\n",
      "Epoch 13/1000\n",
      "1407/1407 [==============================] - 16s 11ms/step - loss: 1.3877 - accuracy: 0.5022 - val_loss: 1.4877 - val_accuracy: 0.4740\n",
      "Epoch 14/1000\n",
      "1407/1407 [==============================] - 16s 11ms/step - loss: 1.3712 - accuracy: 0.5092 - val_loss: 1.5385 - val_accuracy: 0.4558\n",
      "Epoch 15/1000\n",
      "1407/1407 [==============================] - 16s 11ms/step - loss: 1.3576 - accuracy: 0.5137 - val_loss: 1.5129 - val_accuracy: 0.4678\n",
      "Epoch 16/1000\n",
      "1407/1407 [==============================] - 16s 11ms/step - loss: 1.3438 - accuracy: 0.5171 - val_loss: 1.4999 - val_accuracy: 0.4672\n",
      "Epoch 17/1000\n",
      "1407/1407 [==============================] - 16s 11ms/step - loss: 1.3314 - accuracy: 0.5245 - val_loss: 1.4599 - val_accuracy: 0.4806\n",
      "Epoch 18/1000\n",
      "1407/1407 [==============================] - 16s 11ms/step - loss: 1.3188 - accuracy: 0.5268 - val_loss: 1.4466 - val_accuracy: 0.4902\n",
      "Epoch 19/1000\n",
      "1407/1407 [==============================] - 16s 11ms/step - loss: 1.3062 - accuracy: 0.5338 - val_loss: 1.4567 - val_accuracy: 0.4786\n",
      "Epoch 20/1000\n",
      "1407/1407 [==============================] - 16s 11ms/step - loss: 1.2944 - accuracy: 0.5367 - val_loss: 1.4962 - val_accuracy: 0.4694\n",
      "Epoch 21/1000\n",
      "1407/1407 [==============================] - 16s 11ms/step - loss: 1.2818 - accuracy: 0.5414 - val_loss: 1.4309 - val_accuracy: 0.4944\n",
      "Epoch 22/1000\n",
      "1407/1407 [==============================] - 16s 11ms/step - loss: 1.2721 - accuracy: 0.5446 - val_loss: 1.4353 - val_accuracy: 0.4994\n",
      "Epoch 23/1000\n",
      "1407/1407 [==============================] - 16s 11ms/step - loss: 1.2615 - accuracy: 0.5484 - val_loss: 1.4289 - val_accuracy: 0.5004\n",
      "Epoch 24/1000\n",
      "1407/1407 [==============================] - 16s 12ms/step - loss: 1.2498 - accuracy: 0.5533 - val_loss: 1.4459 - val_accuracy: 0.4908\n",
      "Epoch 25/1000\n",
      "1407/1407 [==============================] - 16s 12ms/step - loss: 1.2399 - accuracy: 0.5584 - val_loss: 1.4212 - val_accuracy: 0.4964\n",
      "Epoch 26/1000\n",
      "1407/1407 [==============================] - 16s 12ms/step - loss: 1.2292 - accuracy: 0.5602 - val_loss: 1.4147 - val_accuracy: 0.4968\n",
      "Epoch 27/1000\n",
      "1407/1407 [==============================] - 18s 13ms/step - loss: 1.2183 - accuracy: 0.5660 - val_loss: 1.4302 - val_accuracy: 0.4976\n",
      "Epoch 28/1000\n",
      "1407/1407 [==============================] - 16s 12ms/step - loss: 1.2087 - accuracy: 0.5678 - val_loss: 1.4258 - val_accuracy: 0.4970\n",
      "Epoch 29/1000\n",
      "1407/1407 [==============================] - 18s 13ms/step - loss: 1.1992 - accuracy: 0.5708 - val_loss: 1.4442 - val_accuracy: 0.4968\n",
      "Epoch 30/1000\n",
      "1407/1407 [==============================] - 17s 12ms/step - loss: 1.1917 - accuracy: 0.5739 - val_loss: 1.4346 - val_accuracy: 0.4988\n",
      "Epoch 31/1000\n",
      "1407/1407 [==============================] - 17s 12ms/step - loss: 1.1783 - accuracy: 0.5803 - val_loss: 1.4510 - val_accuracy: 0.4914\n",
      "Epoch 32/1000\n",
      "1407/1407 [==============================] - 18s 12ms/step - loss: 1.1714 - accuracy: 0.5827 - val_loss: 1.4259 - val_accuracy: 0.4996\n",
      "Epoch 33/1000\n",
      "1407/1407 [==============================] - 17s 12ms/step - loss: 1.1635 - accuracy: 0.5843 - val_loss: 1.4034 - val_accuracy: 0.5102\n",
      "Epoch 34/1000\n",
      "1407/1407 [==============================] - 17s 12ms/step - loss: 1.1535 - accuracy: 0.5880 - val_loss: 1.4512 - val_accuracy: 0.4880\n",
      "Epoch 35/1000\n",
      "1407/1407 [==============================] - 17s 12ms/step - loss: 1.1453 - accuracy: 0.5895 - val_loss: 1.4565 - val_accuracy: 0.4950\n",
      "Epoch 36/1000\n",
      "1407/1407 [==============================] - 16s 11ms/step - loss: 1.1384 - accuracy: 0.5951 - val_loss: 1.4040 - val_accuracy: 0.5050\n",
      "Epoch 37/1000\n",
      "1407/1407 [==============================] - 16s 11ms/step - loss: 1.1253 - accuracy: 0.5984 - val_loss: 1.4316 - val_accuracy: 0.5020\n",
      "Epoch 38/1000\n",
      "1407/1407 [==============================] - 15s 11ms/step - loss: 1.1203 - accuracy: 0.6024 - val_loss: 1.4247 - val_accuracy: 0.5022\n",
      "Epoch 39/1000\n",
      "1407/1407 [==============================] - 16s 11ms/step - loss: 1.1107 - accuracy: 0.6036 - val_loss: 1.4449 - val_accuracy: 0.4978\n",
      "Epoch 40/1000\n",
      "1407/1407 [==============================] - 15s 11ms/step - loss: 1.1052 - accuracy: 0.6059 - val_loss: 1.4226 - val_accuracy: 0.5016\n",
      "Epoch 41/1000\n",
      "1407/1407 [==============================] - 16s 12ms/step - loss: 1.0949 - accuracy: 0.6095 - val_loss: 1.4404 - val_accuracy: 0.5006\n",
      "Epoch 42/1000\n",
      "1407/1407 [==============================] - 17s 12ms/step - loss: 1.0879 - accuracy: 0.6128 - val_loss: 1.4726 - val_accuracy: 0.4982\n",
      "Epoch 43/1000\n",
      "1407/1407 [==============================] - 16s 12ms/step - loss: 1.0799 - accuracy: 0.6167 - val_loss: 1.4324 - val_accuracy: 0.5078\n",
      "Epoch 44/1000\n",
      "1407/1407 [==============================] - 16s 11ms/step - loss: 1.0689 - accuracy: 0.6213 - val_loss: 1.4373 - val_accuracy: 0.5076\n",
      "Epoch 45/1000\n",
      "1407/1407 [==============================] - 16s 11ms/step - loss: 1.0632 - accuracy: 0.6214 - val_loss: 1.4175 - val_accuracy: 0.5070\n",
      "Epoch 46/1000\n",
      "1407/1407 [==============================] - 16s 11ms/step - loss: 1.0528 - accuracy: 0.6262 - val_loss: 1.4856 - val_accuracy: 0.4976\n",
      "Epoch 47/1000\n",
      "1407/1407 [==============================] - 16s 11ms/step - loss: 1.0485 - accuracy: 0.6262 - val_loss: 1.5287 - val_accuracy: 0.4884\n",
      "Epoch 48/1000\n",
      "1407/1407 [==============================] - 16s 11ms/step - loss: 1.0401 - accuracy: 0.6292 - val_loss: 1.4614 - val_accuracy: 0.5080\n",
      "Epoch 49/1000\n",
      "1407/1407 [==============================] - 16s 11ms/step - loss: 1.0305 - accuracy: 0.6337 - val_loss: 1.4702 - val_accuracy: 0.5086\n",
      "Epoch 50/1000\n",
      "1407/1407 [==============================] - 16s 11ms/step - loss: 1.0214 - accuracy: 0.6361 - val_loss: 1.4586 - val_accuracy: 0.5082\n",
      "Epoch 51/1000\n",
      "1407/1407 [==============================] - 16s 11ms/step - loss: 1.0133 - accuracy: 0.6403 - val_loss: 1.5017 - val_accuracy: 0.5008\n",
      "Epoch 52/1000\n",
      "1407/1407 [==============================] - 16s 11ms/step - loss: 1.0063 - accuracy: 0.6411 - val_loss: 1.4908 - val_accuracy: 0.5078\n",
      "Epoch 53/1000\n",
      "1407/1407 [==============================] - 16s 11ms/step - loss: 0.9985 - accuracy: 0.6449 - val_loss: 1.5061 - val_accuracy: 0.4954\n"
     ]
    }
   ],
   "source": [
    "history = model.fit(X_train, y_train, epochs=1000, \n",
    "          validation_data=(X_valid, y_valid), \n",
    "          callbacks=callbacks)"
   ]
  },
  {
   "cell_type": "code",
   "execution_count": 22,
   "metadata": {},
   "outputs": [],
   "source": [
    "model = keras.models.load_model(\"my_cifar10_model.h5\")"
   ]
  },
  {
   "cell_type": "code",
   "execution_count": 23,
   "metadata": {},
   "outputs": [
    {
     "name": "stdout",
     "output_type": "stream",
     "text": [
      "1407/1407 [==============================] - 4s 3ms/step - loss: 1.1164 - accuracy: 0.6034\n"
     ]
    },
    {
     "data": {
      "text/plain": [
       "[1.1164263486862183, 0.6033555269241333]"
      ]
     },
     "execution_count": 23,
     "metadata": {},
     "output_type": "execute_result"
    }
   ],
   "source": [
    "model.evaluate(X_train, y_train)"
   ]
  },
  {
   "cell_type": "code",
   "execution_count": 24,
   "metadata": {},
   "outputs": [
    {
     "name": "stdout",
     "output_type": "stream",
     "text": [
      "157/157 [==============================] - 0s 3ms/step - loss: 1.4034 - accuracy: 0.5102\n"
     ]
    },
    {
     "data": {
      "text/plain": [
       "[1.4033551216125488, 0.510200023651123]"
      ]
     },
     "execution_count": 24,
     "metadata": {},
     "output_type": "execute_result"
    }
   ],
   "source": [
    "model.evaluate(X_valid, y_valid)"
   ]
  },
  {
   "cell_type": "code",
   "execution_count": 25,
   "metadata": {
    "scrolled": true
   },
   "outputs": [
    {
     "name": "stdout",
     "output_type": "stream",
     "text": [
      "313/313 [==============================] - 1s 3ms/step - loss: 1.4362 - accuracy: 0.5023\n"
     ]
    },
    {
     "data": {
      "text/plain": [
       "[1.436204433441162, 0.5023000240325928]"
      ]
     },
     "execution_count": 25,
     "metadata": {},
     "output_type": "execute_result"
    }
   ],
   "source": [
    "model.evaluate(X_test, y_test)"
   ]
  },
  {
   "cell_type": "code",
   "execution_count": 26,
   "metadata": {},
   "outputs": [
    {
     "data": {
      "text/plain": [
       "<matplotlib.image.AxesImage at 0x7f106ea9ec40>"
      ]
     },
     "execution_count": 26,
     "metadata": {},
     "output_type": "execute_result"
    },
    {
     "data": {
      "image/png": "[encoded data removed]",
      "text/plain": [
       "<Figure size 432x288 with 1 Axes>"
      ]
     },
     "metadata": {
      "needs_background": "light"
     },
     "output_type": "display_data"
    }
   ],
   "source": [
    "plt.imshow(X_train[10])"
   ]
  },
  {
   "cell_type": "code",
   "execution_count": 27,
   "metadata": {},
   "outputs": [
    {
     "data": {
      "text/plain": [
       "array([4], dtype=uint8)"
      ]
     },
     "execution_count": 27,
     "metadata": {},
     "output_type": "execute_result"
    }
   ],
   "source": [
    "y_train[10]"
   ]
  },
  {
   "cell_type": "markdown",
   "metadata": {},
   "source": [
    " "
   ]
  },
  {
   "cell_type": "code",
   "execution_count": 44,
   "metadata": {},
   "outputs": [],
   "source": [
    "K.clear_session()\n",
    "np.random.seed(55)\n",
    "tf.random.set_seed(55)"
   ]
  },
  {
   "cell_type": "code",
   "execution_count": 45,
   "metadata": {},
   "outputs": [],
   "source": [
    "model = Sequential()\n",
    "\n",
    "model.add(Flatten(input_shape = (32, 32, 3)))\n",
    "model.add(BatchNormalization())\n",
    "\n",
    "for _ in range(20):\n",
    "    model.add(Dense(100, kernel_initializer='he_normal'))\n",
    "    model.add(BatchNormalization())\n",
    "    model.add(Activation('elu'))\n",
    "    \n",
    "model.add(Dense(10, activation='softmax'))\n",
    "\n",
    "optimizer = keras.optimizers.Nadam(lr = 3e-4)\n",
    "model.compile(loss='sparse_categorical_crossentropy', \n",
    "             optimizer=optimizer, \n",
    "             metrics=['accuracy'])"
   ]
  },
  {
   "cell_type": "code",
   "execution_count": 46,
   "metadata": {},
   "outputs": [
    {
     "name": "stdout",
     "output_type": "stream",
     "text": [
      "1407/1407 [==============================] - 24s 17ms/step - loss: 7.1998 - accuracy: 0.2454 - val_loss: 1466.3466 - val_accuracy: 0.1030\n"
     ]
    }
   ],
   "source": [
    "exp_cb = ExponentialLearningRate(factor=1.005)\n",
    "\n",
    "history = model.fit(X_train, y_train, epochs=1, validation_data=(X_valid, y_valid), callbacks=[exp_cb])"
   ]
  },
  {
   "cell_type": "code",
   "execution_count": 47,
   "metadata": {},
   "outputs": [
    {
     "data": {
      "image/png": "[encoded data removed]",
      "text/plain": [
       "<Figure size 432x288 with 1 Axes>"
      ]
     },
     "metadata": {
      "needs_background": "light"
     },
     "output_type": "display_data"
    }
   ],
   "source": [
    "plt.plot(exp_cb.rates, exp_cb.losses)\n",
    "plt.gca().set_xscale('log')\n",
    "plt.hlines(min(exp_cb.losses), min(exp_cb.rates), max(exp_cb.rates))\n",
    "plt.axis([min(exp_cb.rates), max(exp_cb.rates), 0, exp_cb.losses[0]])\n",
    "plt.xlabel(\"Learning rate\")\n",
    "plt.ylabel(\"Loss\")\n",
    "plt.grid(True)"
   ]
  },
  {
   "cell_type": "code",
   "execution_count": 12,
   "metadata": {
    "scrolled": true
   },
   "outputs": [
    {
     "name": "stdout",
     "output_type": "stream",
     "text": [
      "Epoch 1/20\n",
      "   2/1407 [..............................] - ETA: 7:59 - loss: 2.7838 - accuracy: 0.1094WARNING:tensorflow:Method (on_train_batch_end) is slow compared to the batch update (0.334724). Check your callbacks.\n",
      "1407/1407 [==============================] - 25s 18ms/step - loss: 1.8410 - accuracy: 0.3403 - val_loss: 1.7121 - val_accuracy: 0.3862\n",
      "Epoch 2/20\n",
      "1407/1407 [==============================] - 23s 17ms/step - loss: 1.6821 - accuracy: 0.4022 - val_loss: 1.6250 - val_accuracy: 0.4208\n",
      "Epoch 3/20\n",
      "1407/1407 [==============================] - 25s 18ms/step - loss: 1.6119 - accuracy: 0.4258 - val_loss: 1.5427 - val_accuracy: 0.4432\n",
      "Epoch 4/20\n",
      "1407/1407 [==============================] - 24s 17ms/step - loss: 1.5644 - accuracy: 0.4427 - val_loss: 1.4708 - val_accuracy: 0.4760\n",
      "Epoch 5/20\n",
      "1407/1407 [==============================] - 23s 16ms/step - loss: 1.5167 - accuracy: 0.4608 - val_loss: 1.4366 - val_accuracy: 0.4972\n",
      "Epoch 6/20\n",
      "1407/1407 [==============================] - 23s 16ms/step - loss: 1.4800 - accuracy: 0.4743 - val_loss: 1.4237 - val_accuracy: 0.4920\n",
      "Epoch 7/20\n",
      "1407/1407 [==============================] - 25s 18ms/step - loss: 1.4467 - accuracy: 0.4869 - val_loss: 1.4157 - val_accuracy: 0.4942\n",
      "Epoch 8/20\n",
      "1407/1407 [==============================] - 23s 17ms/step - loss: 1.4192 - accuracy: 0.4986 - val_loss: 1.3943 - val_accuracy: 0.5040\n",
      "Epoch 9/20\n",
      "1407/1407 [==============================] - 25s 18ms/step - loss: 1.3937 - accuracy: 0.5059 - val_loss: 1.4061 - val_accuracy: 0.5048\n",
      "Epoch 10/20\n",
      "1407/1407 [==============================] - 24s 17ms/step - loss: 1.3638 - accuracy: 0.5169 - val_loss: 1.3625 - val_accuracy: 0.5244\n",
      "Epoch 11/20\n",
      "1407/1407 [==============================] - 24s 17ms/step - loss: 1.3394 - accuracy: 0.5285 - val_loss: 1.3808 - val_accuracy: 0.5112\n",
      "Epoch 12/20\n",
      "1407/1407 [==============================] - 23s 17ms/step - loss: 1.3173 - accuracy: 0.5347 - val_loss: 1.3645 - val_accuracy: 0.5276\n",
      "Epoch 13/20\n",
      "1407/1407 [==============================] - 24s 17ms/step - loss: 1.3071 - accuracy: 0.5406 - val_loss: 1.3351 - val_accuracy: 0.5300\n",
      "Epoch 14/20\n",
      "1407/1407 [==============================] - 24s 17ms/step - loss: 1.2852 - accuracy: 0.5463 - val_loss: 1.3754 - val_accuracy: 0.5198\n",
      "Epoch 15/20\n",
      "1407/1407 [==============================] - 24s 17ms/step - loss: 1.2702 - accuracy: 0.5531 - val_loss: 1.3358 - val_accuracy: 0.5314\n",
      "Epoch 16/20\n",
      "1407/1407 [==============================] - 23s 17ms/step - loss: 1.2464 - accuracy: 0.5607 - val_loss: 1.3386 - val_accuracy: 0.5400\n",
      "Epoch 17/20\n",
      "1407/1407 [==============================] - 24s 17ms/step - loss: 1.2304 - accuracy: 0.5670 - val_loss: 1.2880 - val_accuracy: 0.5494\n",
      "Epoch 18/20\n",
      "1407/1407 [==============================] - 23s 17ms/step - loss: 1.2179 - accuracy: 0.5684 - val_loss: 1.3163 - val_accuracy: 0.5392\n",
      "Epoch 19/20\n",
      "1407/1407 [==============================] - 23s 17ms/step - loss: 1.2040 - accuracy: 0.5752 - val_loss: 1.3609 - val_accuracy: 0.5254\n",
      "Epoch 20/20\n",
      "1407/1407 [==============================] - 23s 17ms/step - loss: 1.1954 - accuracy: 0.5780 - val_loss: 1.3158 - val_accuracy: 0.5422\n"
     ]
    }
   ],
   "source": [
    "rates = [1e-4, 5e-4, 1e-3, 5e-3, 1e-2, 3e-4, 7.5e-4]\n",
    "\n",
    "for i in range(len(rates)):\n",
    "    K.clear_session()\n",
    "    np.random.seed(55)\n",
    "    tf.random.set_seed(55)\n",
    "\n",
    "    model = Sequential()\n",
    "\n",
    "    model.add(Flatten(input_shape=(32, 32, 3)))\n",
    "    model.add(BatchNormalization())\n",
    "\n",
    "    for _ in range(20):\n",
    "        model.add(Dense(100, kernel_initializer='he_normal'))\n",
    "        model.add(BatchNormalization())\n",
    "        model.add(Activation('elu'))\n",
    "\n",
    "    model.add(Dense(10, activation=\"softmax\"))\n",
    "\n",
    "    early_stopping_cb = keras.callbacks.EarlyStopping(patience=10, restore_best_weights=True)\n",
    "    model_checkpoint_cb = keras.callbacks.ModelCheckpoint(f\"my_cifar10_bn_model_{i+1}.h5\", save_best_only=True)\n",
    "\n",
    "    run_logdir = f\"{os.curdir}/my_cifar10_logs/run_bn_{i+1}\"\n",
    "    tensorboard_cb = keras.callbacks.TensorBoard(run_logdir)\n",
    "\n",
    "    callbacks = [early_stopping_cb, model_checkpoint_cb, tensorboard_cb]\n",
    "\n",
    "    optimizer=keras.optimizers.Nadam(lr = rates[i])\n",
    "\n",
    "    model.compile(loss=\"sparse_categorical_crossentropy\", \n",
    "                 optimizer=optimizer, \n",
    "                 metrics=['accuracy'])\n",
    "\n",
    "    history = model.fit(X_train, y_train, epochs=20, \n",
    "              validation_data=(X_valid, y_valid), \n",
    "              callbacks=callbacks)\n"
   ]
  },
  {
   "cell_type": "markdown",
   "metadata": {},
   "source": [
    " "
   ]
  },
  {
   "cell_type": "code",
   "execution_count": 54,
   "metadata": {},
   "outputs": [],
   "source": [
    "K.clear_session()\n",
    "np.random.seed(55)\n",
    "tf.random.set_seed(55)\n",
    "\n",
    "model = Sequential()\n",
    "\n",
    "model.add(Flatten(input_shape=(32, 32, 3)))\n",
    "model.add(BatchNormalization())\n",
    "\n",
    "for _ in range(20):\n",
    "    model.add(Dense(100, kernel_initializer='he_normal'))\n",
    "    model.add(BatchNormalization())\n",
    "    model.add(Activation('elu'))\n",
    "\n",
    "model.add(Dense(10, activation=\"softmax\"))\n",
    "\n",
    "early_stopping_cb = keras.callbacks.EarlyStopping(patience=20, restore_best_weights=True)\n",
    "model_checkpoint_cb = keras.callbacks.ModelCheckpoint(f\"my_cifar10_bn_model.h5\", save_best_only=True)\n",
    "\n",
    "callbacks = [early_stopping_cb, model_checkpoint_cb]\n",
    "\n",
    "optimizer = keras.optimizers.Nadam(lr=1.5e-3)\n",
    "\n",
    "model.compile(loss='sparse_categorical_crossentropy', \n",
    "             optimizer=optimizer, \n",
    "             metrics=['accuracy'])\n",
    "\n"
   ]
  },
  {
   "cell_type": "code",
   "execution_count": 55,
   "metadata": {},
   "outputs": [
    {
     "name": "stdout",
     "output_type": "stream",
     "text": [
      "Epoch 1/1000\n",
      "1407/1407 [==============================] - 22s 16ms/step - loss: 1.8508 - accuracy: 0.3383 - val_loss: 1.7908 - val_accuracy: 0.3738\n",
      "Epoch 2/1000\n",
      "1407/1407 [==============================] - 23s 16ms/step - loss: 1.7007 - accuracy: 0.3951 - val_loss: 1.6564 - val_accuracy: 0.4062\n",
      "Epoch 3/1000\n",
      "1407/1407 [==============================] - 23s 16ms/step - loss: 1.6290 - accuracy: 0.4204 - val_loss: 1.5915 - val_accuracy: 0.4422\n",
      "Epoch 4/1000\n",
      "1407/1407 [==============================] - 22s 16ms/step - loss: 1.5827 - accuracy: 0.4349 - val_loss: 1.5197 - val_accuracy: 0.4616\n",
      "Epoch 5/1000\n",
      "1407/1407 [==============================] - 21s 15ms/step - loss: 1.5337 - accuracy: 0.4551 - val_loss: 1.4862 - val_accuracy: 0.4706\n",
      "Epoch 6/1000\n",
      "1407/1407 [==============================] - 21s 15ms/step - loss: 1.4969 - accuracy: 0.4711 - val_loss: 1.4800 - val_accuracy: 0.4700\n",
      "Epoch 7/1000\n",
      "1407/1407 [==============================] - 21s 15ms/step - loss: 1.4628 - accuracy: 0.4828 - val_loss: 1.4664 - val_accuracy: 0.4706\n",
      "Epoch 8/1000\n",
      "1407/1407 [==============================] - 21s 15ms/step - loss: 1.4354 - accuracy: 0.4959 - val_loss: 1.4683 - val_accuracy: 0.4764\n",
      "Epoch 9/1000\n",
      "1407/1407 [==============================] - 21s 15ms/step - loss: 1.4051 - accuracy: 0.5039 - val_loss: 1.4677 - val_accuracy: 0.4790\n",
      "Epoch 10/1000\n",
      "1407/1407 [==============================] - 21s 15ms/step - loss: 1.3731 - accuracy: 0.5166 - val_loss: 1.4042 - val_accuracy: 0.5022\n",
      "Epoch 11/1000\n",
      "1407/1407 [==============================] - 21s 15ms/step - loss: 1.3492 - accuracy: 0.5263 - val_loss: 1.4011 - val_accuracy: 0.5054\n",
      "Epoch 12/1000\n",
      "1407/1407 [==============================] - 22s 15ms/step - loss: 1.3241 - accuracy: 0.5351 - val_loss: 1.3715 - val_accuracy: 0.5134\n",
      "Epoch 13/1000\n",
      "1407/1407 [==============================] - 21s 15ms/step - loss: 1.3107 - accuracy: 0.5374 - val_loss: 1.3458 - val_accuracy: 0.5226\n",
      "Epoch 14/1000\n",
      "1407/1407 [==============================] - 21s 15ms/step - loss: 1.2910 - accuracy: 0.5457 - val_loss: 1.3792 - val_accuracy: 0.5114\n",
      "Epoch 15/1000\n",
      "1407/1407 [==============================] - 21s 15ms/step - loss: 1.2673 - accuracy: 0.5510 - val_loss: 1.3815 - val_accuracy: 0.5130\n",
      "Epoch 16/1000\n",
      "1407/1407 [==============================] - 22s 15ms/step - loss: 1.2480 - accuracy: 0.5614 - val_loss: 1.3572 - val_accuracy: 0.5228\n",
      "Epoch 17/1000\n",
      "1407/1407 [==============================] - 25s 18ms/step - loss: 1.2243 - accuracy: 0.5680 - val_loss: 1.3036 - val_accuracy: 0.5402\n",
      "Epoch 18/1000\n",
      "1407/1407 [==============================] - 22s 16ms/step - loss: 1.2146 - accuracy: 0.5734 - val_loss: 1.3171 - val_accuracy: 0.5400\n",
      "Epoch 19/1000\n",
      "1407/1407 [==============================] - 21s 15ms/step - loss: 1.2013 - accuracy: 0.5788 - val_loss: 1.3332 - val_accuracy: 0.5408\n",
      "Epoch 20/1000\n",
      "1407/1407 [==============================] - 22s 15ms/step - loss: 1.1846 - accuracy: 0.5837 - val_loss: 1.3616 - val_accuracy: 0.5214\n",
      "Epoch 21/1000\n",
      "1407/1407 [==============================] - 22s 16ms/step - loss: 1.1666 - accuracy: 0.5912 - val_loss: 1.3208 - val_accuracy: 0.5402\n",
      "Epoch 22/1000\n",
      "1407/1407 [==============================] - 21s 15ms/step - loss: 1.1531 - accuracy: 0.5974 - val_loss: 1.3416 - val_accuracy: 0.5334\n",
      "Epoch 23/1000\n",
      "1407/1407 [==============================] - 22s 16ms/step - loss: 1.1355 - accuracy: 0.6038 - val_loss: 1.2984 - val_accuracy: 0.5526\n",
      "Epoch 24/1000\n",
      "1407/1407 [==============================] - 25s 18ms/step - loss: 1.1220 - accuracy: 0.6101 - val_loss: 1.3514 - val_accuracy: 0.5240\n",
      "Epoch 25/1000\n",
      "1407/1407 [==============================] - 25s 17ms/step - loss: 1.1074 - accuracy: 0.6147 - val_loss: 1.3142 - val_accuracy: 0.5392\n",
      "Epoch 26/1000\n",
      "1407/1407 [==============================] - 25s 18ms/step - loss: 1.0947 - accuracy: 0.6165 - val_loss: 1.3297 - val_accuracy: 0.5350\n",
      "Epoch 27/1000\n",
      "1407/1407 [==============================] - 23s 16ms/step - loss: 1.0844 - accuracy: 0.6230 - val_loss: 1.3296 - val_accuracy: 0.5354\n",
      "Epoch 28/1000\n",
      "1407/1407 [==============================] - 24s 17ms/step - loss: 1.0710 - accuracy: 0.6286 - val_loss: 1.3335 - val_accuracy: 0.5438\n",
      "Epoch 29/1000\n",
      "1407/1407 [==============================] - 22s 15ms/step - loss: 1.0631 - accuracy: 0.6269 - val_loss: 1.3590 - val_accuracy: 0.5372\n",
      "Epoch 30/1000\n",
      "1407/1407 [==============================] - 21s 15ms/step - loss: 1.0479 - accuracy: 0.6334 - val_loss: 1.3632 - val_accuracy: 0.5450\n",
      "Epoch 31/1000\n",
      "1407/1407 [==============================] - 21s 15ms/step - loss: 1.0340 - accuracy: 0.6394 - val_loss: 1.3274 - val_accuracy: 0.5392\n",
      "Epoch 32/1000\n",
      "1407/1407 [==============================] - 22s 15ms/step - loss: 1.0203 - accuracy: 0.6423 - val_loss: 1.3227 - val_accuracy: 0.5454\n",
      "Epoch 33/1000\n",
      "1407/1407 [==============================] - 21s 15ms/step - loss: 1.0130 - accuracy: 0.6464 - val_loss: 1.3452 - val_accuracy: 0.5524\n",
      "Epoch 34/1000\n",
      "1407/1407 [==============================] - 23s 16ms/step - loss: 1.0011 - accuracy: 0.6511 - val_loss: 1.3492 - val_accuracy: 0.5440\n",
      "Epoch 35/1000\n",
      "1407/1407 [==============================] - 25s 18ms/step - loss: 0.9875 - accuracy: 0.6534 - val_loss: 1.3572 - val_accuracy: 0.5428\n",
      "Epoch 36/1000\n",
      "1407/1407 [==============================] - 27s 19ms/step - loss: 0.9828 - accuracy: 0.6566 - val_loss: 1.3636 - val_accuracy: 0.5322\n",
      "Epoch 37/1000\n",
      "1407/1407 [==============================] - 23s 17ms/step - loss: 0.9666 - accuracy: 0.6620 - val_loss: 1.3477 - val_accuracy: 0.5410\n",
      "Epoch 38/1000\n",
      "1407/1407 [==============================] - 23s 17ms/step - loss: 0.9646 - accuracy: 0.6635 - val_loss: 1.3937 - val_accuracy: 0.5310\n",
      "Epoch 39/1000\n",
      "1407/1407 [==============================] - 24s 17ms/step - loss: 0.9620 - accuracy: 0.6641 - val_loss: 1.3662 - val_accuracy: 0.5432\n",
      "Epoch 40/1000\n",
      "1407/1407 [==============================] - 24s 17ms/step - loss: 0.9389 - accuracy: 0.6725 - val_loss: 1.3902 - val_accuracy: 0.5364\n",
      "Epoch 41/1000\n",
      "1407/1407 [==============================] - 25s 18ms/step - loss: 0.9323 - accuracy: 0.6740 - val_loss: 1.3689 - val_accuracy: 0.5400\n",
      "Epoch 42/1000\n",
      "1407/1407 [==============================] - 25s 18ms/step - loss: 0.9312 - accuracy: 0.6745 - val_loss: 1.3995 - val_accuracy: 0.5414\n",
      "Epoch 43/1000\n",
      "1407/1407 [==============================] - 24s 17ms/step - loss: 0.9163 - accuracy: 0.6780 - val_loss: 1.4147 - val_accuracy: 0.5336\n"
     ]
    }
   ],
   "source": [
    "history = model.fit(X_train, y_train, epochs=1000, \n",
    "          validation_data=(X_valid, y_valid), \n",
    "          callbacks=callbacks)"
   ]
  },
  {
   "cell_type": "code",
   "execution_count": 13,
   "metadata": {},
   "outputs": [
    {
     "ename": "NameError",
     "evalue": "name 'history' is not defined",
     "output_type": "error",
     "traceback": [
      "\u001b[0;31m---------------------------------------------------------------------------\u001b[0m",
      "\u001b[0;31mNameError\u001b[0m                                 Traceback (most recent call last)",
      "\u001b[0;32m<ipython-input-13-1c572e381e69>\u001b[0m in \u001b[0;36m<module>\u001b[0;34m\u001b[0m\n\u001b[0;32m----> 1\u001b[0;31m \u001b[0mpd\u001b[0m\u001b[0;34m.\u001b[0m\u001b[0mDataFrame\u001b[0m\u001b[0;34m(\u001b[0m\u001b[0mhistory\u001b[0m\u001b[0;34m.\u001b[0m\u001b[0mhistory\u001b[0m\u001b[0;34m)\u001b[0m\u001b[0;34m.\u001b[0m\u001b[0mplot\u001b[0m\u001b[0;34m(\u001b[0m\u001b[0mfigsize\u001b[0m\u001b[0;34m=\u001b[0m\u001b[0;34m(\u001b[0m\u001b[0;36m10\u001b[0m\u001b[0;34m,\u001b[0m \u001b[0;36m10\u001b[0m\u001b[0;34m)\u001b[0m\u001b[0;34m)\u001b[0m\u001b[0;34m\u001b[0m\u001b[0;34m\u001b[0m\u001b[0m\n\u001b[0m\u001b[1;32m      2\u001b[0m \u001b[0mplt\u001b[0m\u001b[0;34m.\u001b[0m\u001b[0mgrid\u001b[0m\u001b[0;34m(\u001b[0m\u001b[0;32mTrue\u001b[0m\u001b[0;34m)\u001b[0m\u001b[0;34m\u001b[0m\u001b[0;34m\u001b[0m\u001b[0m\n",
      "\u001b[0;31mNameError\u001b[0m: name 'history' is not defined"
     ]
    }
   ],
   "source": [
    "pd.DataFrame(history.history).plot(figsize=(10, 10))\n",
    "plt.grid(True)"
   ]
  },
  {
   "cell_type": "code",
   "execution_count": 9,
   "metadata": {},
   "outputs": [],
   "source": [
    "model = keras.models.load_model(\"my_cifar10_bn_model.h5\")"
   ]
  },
  {
   "cell_type": "code",
   "execution_count": 10,
   "metadata": {},
   "outputs": [
    {
     "name": "stdout",
     "output_type": "stream",
     "text": [
      "1407/1407 [==============================] - 7s 5ms/step - loss: 0.9318 - accuracy: 0.6773\n"
     ]
    },
    {
     "data": {
      "text/plain": [
       "[0.9317730069160461, 0.6772666573524475]"
      ]
     },
     "execution_count": 10,
     "metadata": {},
     "output_type": "execute_result"
    }
   ],
   "source": [
    "model.evaluate(X_train, y_train)"
   ]
  },
  {
   "cell_type": "code",
   "execution_count": 11,
   "metadata": {},
   "outputs": [
    {
     "name": "stdout",
     "output_type": "stream",
     "text": [
      "157/157 [==============================] - 1s 5ms/step - loss: 1.2984 - accuracy: 0.5526\n"
     ]
    },
    {
     "data": {
      "text/plain": [
       "[1.298370361328125, 0.5526000261306763]"
      ]
     },
     "execution_count": 11,
     "metadata": {},
     "output_type": "execute_result"
    }
   ],
   "source": [
    "model.evaluate(X_valid, y_valid)"
   ]
  },
  {
   "cell_type": "code",
   "execution_count": 12,
   "metadata": {},
   "outputs": [
    {
     "name": "stdout",
     "output_type": "stream",
     "text": [
      "313/313 [==============================] - 1s 5ms/step - loss: 1.3129 - accuracy: 0.5414\n"
     ]
    },
    {
     "data": {
      "text/plain": [
       "[1.3129498958587646, 0.5414000153541565]"
      ]
     },
     "execution_count": 12,
     "metadata": {},
     "output_type": "execute_result"
    }
   ],
   "source": [
    "model.evaluate(X_test, y_test)"
   ]
  },
  {
   "cell_type": "markdown",
   "metadata": {},
   "source": [
    " "
   ]
  },
  {
   "cell_type": "code",
   "execution_count": 20,
   "metadata": {},
   "outputs": [],
   "source": [
    "K.clear_session()\n",
    "np.random.seed(55)\n",
    "tf.random.set_seed(55)"
   ]
  },
  {
   "cell_type": "code",
   "execution_count": null,
   "metadata": {},
   "outputs": [],
   "source": [
    "model = Sequential()\n",
    "model.add(Flatten(input_shape=(32, 32, 3)))\n",
    "for _ in range(20):\n",
    "    model.add(Dense(100, activation='selu', \n",
    "                   kernel_initializer='lecun_normal'))\n",
    "model.add(Dense(10, activation='softmax'))\n",
    "\n",
    "optimizer = keras.optimizers.Nadam(lr=5e-3)\n",
    "model.compile(loss=\"sparse_categorical_crossentropy\", \n",
    "             optimizer = optimizer, \n",
    "             metrics=['accuracy'])\n",
    "\n",
    "X_means = X_train.mean(axis=0)\n",
    "X_stds = X_train.std(axis=0)\n",
    "\n",
    "X_train_scaled = (X_train - X_means)/X_stds\n",
    "X_valid_scaled = (X_valid - X_means)/X_stds\n",
    "X_test_scaled = (X_test - X_means)/X_stds\n",
    "\n",
    "early_stopping_cb = keras.callbacks.EarlyStopping(patience=20)\n",
    "model_checkpoint_cb = keras.callbacks.ModelCheckpoint(\"my_cifar10_selu_model.h5\", save_best_only=True)\n",
    "run_index = 1\n",
    "run_logdir = f\"{os.curdir}my_cifar10_logs/run_selu_{run_index}\"\n",
    "tensorboard_cb = keras.callbacks.TensorBoard(run_logdir)\n",
    "callbacks = [early_stopping_cb, model_checkpoint_cb, tensorboard_cb]\n",
    "\n",
    "history = model.fit(X_train_scaled, y_train, \n",
    "                   epochs=1000, \n",
    "                   validation_data=(X_valid_scaled ,y_valid), \n",
    "                   callbacks=callbacks)"
   ]
  },
  {
   "cell_type": "code",
   "execution_count": 17,
   "metadata": {},
   "outputs": [
    {
     "name": "stdout",
     "output_type": "stream",
     "text": [
      "1407/1407 [==============================] - 6s 4ms/step - loss: 1.6314 - accuracy: 0.3890\n"
     ]
    },
    {
     "data": {
      "text/plain": [
       "[1.631423830986023, 0.3889777660369873]"
      ]
     },
     "execution_count": 17,
     "metadata": {},
     "output_type": "execute_result"
    }
   ],
   "source": [
    "model = keras.models.load_model(\"my_cifar10_selu_model.h5\")\n",
    "\n",
    "model.evaluate(X_train_scaled, y_train)"
   ]
  },
  {
   "cell_type": "code",
   "execution_count": 18,
   "metadata": {},
   "outputs": [
    {
     "name": "stdout",
     "output_type": "stream",
     "text": [
      "157/157 [==============================] - 1s 4ms/step - loss: 1.6837 - accuracy: 0.3748\n"
     ]
    },
    {
     "data": {
      "text/plain": [
       "[1.6836771965026855, 0.3747999966144562]"
      ]
     },
     "execution_count": 18,
     "metadata": {},
     "output_type": "execute_result"
    }
   ],
   "source": [
    "model.evaluate(X_valid_scaled, y_valid)"
   ]
  },
  {
   "cell_type": "code",
   "execution_count": 19,
   "metadata": {},
   "outputs": [
    {
     "name": "stdout",
     "output_type": "stream",
     "text": [
      "313/313 [==============================] - 1s 4ms/step - loss: 1.6700 - accuracy: 0.3798\n"
     ]
    },
    {
     "data": {
      "text/plain": [
       "[1.670015573501587, 0.3797999918460846]"
      ]
     },
     "execution_count": 19,
     "metadata": {},
     "output_type": "execute_result"
    }
   ],
   "source": [
    "model.evaluate(X_test_scaled, y_test)"
   ]
  },
  {
   "cell_type": "code",
   "execution_count": null,
   "metadata": {},
   "outputs": [],
   "source": []
  }
 ],
 "metadata": {
  "kernelspec": {
   "display_name": "Python 3",
   "language": "python",
   "name": "python3"
  },
  "language_info": {
   "codemirror_mode": {
    "name": "ipython",
    "version": 3
   },
   "file_extension": ".py",
   "mimetype": "text/x-python",
   "name": "python",
   "nbconvert_exporter": "python",
   "pygments_lexer": "ipython3",
   "version": "3.8.5"
  }
 },
 "nbformat": 4,
 "nbformat_minor": 4
}
